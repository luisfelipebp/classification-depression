{
  "nbformat": 4,
  "nbformat_minor": 0,
  "metadata": {
    "colab": {
      "provenance": [],
      "mount_file_id": "1dkimQJQSMPR1MZMotgbO3HjGQJG5M1GI",
      "authorship_tag": "ABX9TyMIhpGOND2v7Os+vzIDvhRt",
      "include_colab_link": true
    },
    "kernelspec": {
      "name": "python3",
      "display_name": "Python 3"
    },
    "language_info": {
      "name": "python"
    }
  },
  "cells": [
    {
      "cell_type": "markdown",
      "metadata": {
        "id": "view-in-github",
        "colab_type": "text"
      },
      "source": [
        "<a href=\"https://colab.research.google.com/github/luisfelipebp/classification-depression/blob/main/data_analysis.ipynb\" target=\"_parent\"><img src=\"https://colab.research.google.com/assets/colab-badge.svg\" alt=\"Open In Colab\"/></a>"
      ]
    },
    {
      "cell_type": "markdown",
      "source": [
        "Verificando os tipos dos dados nulos:\n",
        "\n",
        "MCAR: A ausência é totalmente aleatória e não tem relação com nenhum outro dado do conjunto de dados.\n",
        "\n",
        "MAR: A ausência não é aleatória, mas pode ser explicada por outras variáveis presentes no conjunto de dados.\n",
        "\n",
        "MNAR: A ausência depende do próprio valor que está faltando, como no caso de pessoas com salários muito altos que preferem não informar esse valor."
      ],
      "metadata": {
        "id": "jKjtqrFRV2DX"
      }
    },
    {
      "cell_type": "code",
      "execution_count": 77,
      "metadata": {
        "id": "qtbY9ZmTQZg4"
      },
      "outputs": [],
      "source": [
        "import numpy as np\n",
        "import pandas as pd"
      ]
    },
    {
      "cell_type": "code",
      "source": [
        "df = pd.read_csv('/content/drive/MyDrive/Data-Science/Classificação/depression/me_cfs_vs_depression_dataset.csv')"
      ],
      "metadata": {
        "id": "bjhA3xnvQe8f"
      },
      "execution_count": 78,
      "outputs": []
    },
    {
      "cell_type": "code",
      "source": [
        "df"
      ],
      "metadata": {
        "colab": {
          "base_uri": "https://localhost:8080/",
          "height": 423
        },
        "id": "k65GYL4JaWY0",
        "outputId": "b811f3fc-cee4-45b5-b7f9-01c1b47abdca"
      },
      "execution_count": 79,
      "outputs": [
        {
          "output_type": "execute_result",
          "data": {
            "text/plain": [
              "     age  gender  sleep_quality_index  brain_fog_level  physical_pain_score  \\\n",
              "0     56    Male                  8.7              3.9                  9.2   \n",
              "1     69    Male                  1.3              9.9                  4.2   \n",
              "2     46  Female                  4.0              5.4                  4.8   \n",
              "3     32  Female                  9.4              2.1                  2.9   \n",
              "4     60  Female                  7.6              7.5                  6.4   \n",
              "..   ...     ...                  ...              ...                  ...   \n",
              "995   25  Female                  8.2              9.2                  8.8   \n",
              "996   66    Male                  9.7              1.3                  2.4   \n",
              "997   52    Male                  8.7              4.2                  8.7   \n",
              "998   69    Male                  2.1              1.1                  9.9   \n",
              "999   32    Male                  7.7              1.7                  7.5   \n",
              "\n",
              "     stress_level  depression_phq9_score  fatigue_severity_scale_score  \\\n",
              "0             8.1                   10.0                           6.5   \n",
              "1             9.9                   20.0                           7.0   \n",
              "2             NaN                   24.0                           1.6   \n",
              "3             3.8                   10.0                           6.8   \n",
              "4             8.5                   17.0                           7.0   \n",
              "..            ...                    ...                           ...   \n",
              "995           3.6                   10.0                           6.9   \n",
              "996           2.8                    9.0                           7.0   \n",
              "997           3.4                    7.0                           7.0   \n",
              "998           2.5                   15.0                           3.5   \n",
              "999           1.9                   26.0                           5.4   \n",
              "\n",
              "     pem_duration_hours  hours_of_sleep_per_night  pem_present  \\\n",
              "0                   9.0                       7.7            0   \n",
              "1                  41.0                       8.4            1   \n",
              "2                  13.0                       6.9            0   \n",
              "3                  11.0                       7.5            0   \n",
              "4                  46.0                       3.1            1   \n",
              "..                  ...                       ...          ...   \n",
              "995                29.0                       3.2            0   \n",
              "996                34.0                       NaN            1   \n",
              "997                40.0                       9.2            1   \n",
              "998                37.0                       3.3            0   \n",
              "999                21.0                       8.1            0   \n",
              "\n",
              "           work_status social_activity_level exercise_frequency  \\\n",
              "0              Working                   Low              Daily   \n",
              "1              Working                   Low              Often   \n",
              "2    Partially working                   NaN             Rarely   \n",
              "3          Not working                  High              Never   \n",
              "4          Not working                   Low             Rarely   \n",
              "..                 ...                   ...                ...   \n",
              "995  Partially working                Medium                NaN   \n",
              "996            Working             Very high             Rarely   \n",
              "997            Working             Very high              Daily   \n",
              "998  Partially working                   Low              Never   \n",
              "999  Partially working              Very low             Rarely   \n",
              "\n",
              "    meditation_or_mindfulness   diagnosis  \n",
              "0                         Yes  Depression  \n",
              "1                         Yes        Both  \n",
              "2                         Yes  Depression  \n",
              "3                         Yes  Depression  \n",
              "4                          No        Both  \n",
              "..                        ...         ...  \n",
              "995                       Yes  Depression  \n",
              "996                        No      ME/CFS  \n",
              "997                       Yes      ME/CFS  \n",
              "998                        No  Depression  \n",
              "999                       Yes  Depression  \n",
              "\n",
              "[1000 rows x 16 columns]"
            ],
            "text/html": [
              "\n",
              "  <div id=\"df-1385ebf8-3884-4f9a-863b-f169490efd31\" class=\"colab-df-container\">\n",
              "    <div>\n",
              "<style scoped>\n",
              "    .dataframe tbody tr th:only-of-type {\n",
              "        vertical-align: middle;\n",
              "    }\n",
              "\n",
              "    .dataframe tbody tr th {\n",
              "        vertical-align: top;\n",
              "    }\n",
              "\n",
              "    .dataframe thead th {\n",
              "        text-align: right;\n",
              "    }\n",
              "</style>\n",
              "<table border=\"1\" class=\"dataframe\">\n",
              "  <thead>\n",
              "    <tr style=\"text-align: right;\">\n",
              "      <th></th>\n",
              "      <th>age</th>\n",
              "      <th>gender</th>\n",
              "      <th>sleep_quality_index</th>\n",
              "      <th>brain_fog_level</th>\n",
              "      <th>physical_pain_score</th>\n",
              "      <th>stress_level</th>\n",
              "      <th>depression_phq9_score</th>\n",
              "      <th>fatigue_severity_scale_score</th>\n",
              "      <th>pem_duration_hours</th>\n",
              "      <th>hours_of_sleep_per_night</th>\n",
              "      <th>pem_present</th>\n",
              "      <th>work_status</th>\n",
              "      <th>social_activity_level</th>\n",
              "      <th>exercise_frequency</th>\n",
              "      <th>meditation_or_mindfulness</th>\n",
              "      <th>diagnosis</th>\n",
              "    </tr>\n",
              "  </thead>\n",
              "  <tbody>\n",
              "    <tr>\n",
              "      <th>0</th>\n",
              "      <td>56</td>\n",
              "      <td>Male</td>\n",
              "      <td>8.7</td>\n",
              "      <td>3.9</td>\n",
              "      <td>9.2</td>\n",
              "      <td>8.1</td>\n",
              "      <td>10.0</td>\n",
              "      <td>6.5</td>\n",
              "      <td>9.0</td>\n",
              "      <td>7.7</td>\n",
              "      <td>0</td>\n",
              "      <td>Working</td>\n",
              "      <td>Low</td>\n",
              "      <td>Daily</td>\n",
              "      <td>Yes</td>\n",
              "      <td>Depression</td>\n",
              "    </tr>\n",
              "    <tr>\n",
              "      <th>1</th>\n",
              "      <td>69</td>\n",
              "      <td>Male</td>\n",
              "      <td>1.3</td>\n",
              "      <td>9.9</td>\n",
              "      <td>4.2</td>\n",
              "      <td>9.9</td>\n",
              "      <td>20.0</td>\n",
              "      <td>7.0</td>\n",
              "      <td>41.0</td>\n",
              "      <td>8.4</td>\n",
              "      <td>1</td>\n",
              "      <td>Working</td>\n",
              "      <td>Low</td>\n",
              "      <td>Often</td>\n",
              "      <td>Yes</td>\n",
              "      <td>Both</td>\n",
              "    </tr>\n",
              "    <tr>\n",
              "      <th>2</th>\n",
              "      <td>46</td>\n",
              "      <td>Female</td>\n",
              "      <td>4.0</td>\n",
              "      <td>5.4</td>\n",
              "      <td>4.8</td>\n",
              "      <td>NaN</td>\n",
              "      <td>24.0</td>\n",
              "      <td>1.6</td>\n",
              "      <td>13.0</td>\n",
              "      <td>6.9</td>\n",
              "      <td>0</td>\n",
              "      <td>Partially working</td>\n",
              "      <td>NaN</td>\n",
              "      <td>Rarely</td>\n",
              "      <td>Yes</td>\n",
              "      <td>Depression</td>\n",
              "    </tr>\n",
              "    <tr>\n",
              "      <th>3</th>\n",
              "      <td>32</td>\n",
              "      <td>Female</td>\n",
              "      <td>9.4</td>\n",
              "      <td>2.1</td>\n",
              "      <td>2.9</td>\n",
              "      <td>3.8</td>\n",
              "      <td>10.0</td>\n",
              "      <td>6.8</td>\n",
              "      <td>11.0</td>\n",
              "      <td>7.5</td>\n",
              "      <td>0</td>\n",
              "      <td>Not working</td>\n",
              "      <td>High</td>\n",
              "      <td>Never</td>\n",
              "      <td>Yes</td>\n",
              "      <td>Depression</td>\n",
              "    </tr>\n",
              "    <tr>\n",
              "      <th>4</th>\n",
              "      <td>60</td>\n",
              "      <td>Female</td>\n",
              "      <td>7.6</td>\n",
              "      <td>7.5</td>\n",
              "      <td>6.4</td>\n",
              "      <td>8.5</td>\n",
              "      <td>17.0</td>\n",
              "      <td>7.0</td>\n",
              "      <td>46.0</td>\n",
              "      <td>3.1</td>\n",
              "      <td>1</td>\n",
              "      <td>Not working</td>\n",
              "      <td>Low</td>\n",
              "      <td>Rarely</td>\n",
              "      <td>No</td>\n",
              "      <td>Both</td>\n",
              "    </tr>\n",
              "    <tr>\n",
              "      <th>...</th>\n",
              "      <td>...</td>\n",
              "      <td>...</td>\n",
              "      <td>...</td>\n",
              "      <td>...</td>\n",
              "      <td>...</td>\n",
              "      <td>...</td>\n",
              "      <td>...</td>\n",
              "      <td>...</td>\n",
              "      <td>...</td>\n",
              "      <td>...</td>\n",
              "      <td>...</td>\n",
              "      <td>...</td>\n",
              "      <td>...</td>\n",
              "      <td>...</td>\n",
              "      <td>...</td>\n",
              "      <td>...</td>\n",
              "    </tr>\n",
              "    <tr>\n",
              "      <th>995</th>\n",
              "      <td>25</td>\n",
              "      <td>Female</td>\n",
              "      <td>8.2</td>\n",
              "      <td>9.2</td>\n",
              "      <td>8.8</td>\n",
              "      <td>3.6</td>\n",
              "      <td>10.0</td>\n",
              "      <td>6.9</td>\n",
              "      <td>29.0</td>\n",
              "      <td>3.2</td>\n",
              "      <td>0</td>\n",
              "      <td>Partially working</td>\n",
              "      <td>Medium</td>\n",
              "      <td>NaN</td>\n",
              "      <td>Yes</td>\n",
              "      <td>Depression</td>\n",
              "    </tr>\n",
              "    <tr>\n",
              "      <th>996</th>\n",
              "      <td>66</td>\n",
              "      <td>Male</td>\n",
              "      <td>9.7</td>\n",
              "      <td>1.3</td>\n",
              "      <td>2.4</td>\n",
              "      <td>2.8</td>\n",
              "      <td>9.0</td>\n",
              "      <td>7.0</td>\n",
              "      <td>34.0</td>\n",
              "      <td>NaN</td>\n",
              "      <td>1</td>\n",
              "      <td>Working</td>\n",
              "      <td>Very high</td>\n",
              "      <td>Rarely</td>\n",
              "      <td>No</td>\n",
              "      <td>ME/CFS</td>\n",
              "    </tr>\n",
              "    <tr>\n",
              "      <th>997</th>\n",
              "      <td>52</td>\n",
              "      <td>Male</td>\n",
              "      <td>8.7</td>\n",
              "      <td>4.2</td>\n",
              "      <td>8.7</td>\n",
              "      <td>3.4</td>\n",
              "      <td>7.0</td>\n",
              "      <td>7.0</td>\n",
              "      <td>40.0</td>\n",
              "      <td>9.2</td>\n",
              "      <td>1</td>\n",
              "      <td>Working</td>\n",
              "      <td>Very high</td>\n",
              "      <td>Daily</td>\n",
              "      <td>Yes</td>\n",
              "      <td>ME/CFS</td>\n",
              "    </tr>\n",
              "    <tr>\n",
              "      <th>998</th>\n",
              "      <td>69</td>\n",
              "      <td>Male</td>\n",
              "      <td>2.1</td>\n",
              "      <td>1.1</td>\n",
              "      <td>9.9</td>\n",
              "      <td>2.5</td>\n",
              "      <td>15.0</td>\n",
              "      <td>3.5</td>\n",
              "      <td>37.0</td>\n",
              "      <td>3.3</td>\n",
              "      <td>0</td>\n",
              "      <td>Partially working</td>\n",
              "      <td>Low</td>\n",
              "      <td>Never</td>\n",
              "      <td>No</td>\n",
              "      <td>Depression</td>\n",
              "    </tr>\n",
              "    <tr>\n",
              "      <th>999</th>\n",
              "      <td>32</td>\n",
              "      <td>Male</td>\n",
              "      <td>7.7</td>\n",
              "      <td>1.7</td>\n",
              "      <td>7.5</td>\n",
              "      <td>1.9</td>\n",
              "      <td>26.0</td>\n",
              "      <td>5.4</td>\n",
              "      <td>21.0</td>\n",
              "      <td>8.1</td>\n",
              "      <td>0</td>\n",
              "      <td>Partially working</td>\n",
              "      <td>Very low</td>\n",
              "      <td>Rarely</td>\n",
              "      <td>Yes</td>\n",
              "      <td>Depression</td>\n",
              "    </tr>\n",
              "  </tbody>\n",
              "</table>\n",
              "<p>1000 rows × 16 columns</p>\n",
              "</div>\n",
              "    <div class=\"colab-df-buttons\">\n",
              "\n",
              "  <div class=\"colab-df-container\">\n",
              "    <button class=\"colab-df-convert\" onclick=\"convertToInteractive('df-1385ebf8-3884-4f9a-863b-f169490efd31')\"\n",
              "            title=\"Convert this dataframe to an interactive table.\"\n",
              "            style=\"display:none;\">\n",
              "\n",
              "  <svg xmlns=\"http://www.w3.org/2000/svg\" height=\"24px\" viewBox=\"0 -960 960 960\">\n",
              "    <path d=\"M120-120v-720h720v720H120Zm60-500h600v-160H180v160Zm220 220h160v-160H400v160Zm0 220h160v-160H400v160ZM180-400h160v-160H180v160Zm440 0h160v-160H620v160ZM180-180h160v-160H180v160Zm440 0h160v-160H620v160Z\"/>\n",
              "  </svg>\n",
              "    </button>\n",
              "\n",
              "  <style>\n",
              "    .colab-df-container {\n",
              "      display:flex;\n",
              "      gap: 12px;\n",
              "    }\n",
              "\n",
              "    .colab-df-convert {\n",
              "      background-color: #E8F0FE;\n",
              "      border: none;\n",
              "      border-radius: 50%;\n",
              "      cursor: pointer;\n",
              "      display: none;\n",
              "      fill: #1967D2;\n",
              "      height: 32px;\n",
              "      padding: 0 0 0 0;\n",
              "      width: 32px;\n",
              "    }\n",
              "\n",
              "    .colab-df-convert:hover {\n",
              "      background-color: #E2EBFA;\n",
              "      box-shadow: 0px 1px 2px rgba(60, 64, 67, 0.3), 0px 1px 3px 1px rgba(60, 64, 67, 0.15);\n",
              "      fill: #174EA6;\n",
              "    }\n",
              "\n",
              "    .colab-df-buttons div {\n",
              "      margin-bottom: 4px;\n",
              "    }\n",
              "\n",
              "    [theme=dark] .colab-df-convert {\n",
              "      background-color: #3B4455;\n",
              "      fill: #D2E3FC;\n",
              "    }\n",
              "\n",
              "    [theme=dark] .colab-df-convert:hover {\n",
              "      background-color: #434B5C;\n",
              "      box-shadow: 0px 1px 3px 1px rgba(0, 0, 0, 0.15);\n",
              "      filter: drop-shadow(0px 1px 2px rgba(0, 0, 0, 0.3));\n",
              "      fill: #FFFFFF;\n",
              "    }\n",
              "  </style>\n",
              "\n",
              "    <script>\n",
              "      const buttonEl =\n",
              "        document.querySelector('#df-1385ebf8-3884-4f9a-863b-f169490efd31 button.colab-df-convert');\n",
              "      buttonEl.style.display =\n",
              "        google.colab.kernel.accessAllowed ? 'block' : 'none';\n",
              "\n",
              "      async function convertToInteractive(key) {\n",
              "        const element = document.querySelector('#df-1385ebf8-3884-4f9a-863b-f169490efd31');\n",
              "        const dataTable =\n",
              "          await google.colab.kernel.invokeFunction('convertToInteractive',\n",
              "                                                    [key], {});\n",
              "        if (!dataTable) return;\n",
              "\n",
              "        const docLinkHtml = 'Like what you see? Visit the ' +\n",
              "          '<a target=\"_blank\" href=https://colab.research.google.com/notebooks/data_table.ipynb>data table notebook</a>'\n",
              "          + ' to learn more about interactive tables.';\n",
              "        element.innerHTML = '';\n",
              "        dataTable['output_type'] = 'display_data';\n",
              "        await google.colab.output.renderOutput(dataTable, element);\n",
              "        const docLink = document.createElement('div');\n",
              "        docLink.innerHTML = docLinkHtml;\n",
              "        element.appendChild(docLink);\n",
              "      }\n",
              "    </script>\n",
              "  </div>\n",
              "\n",
              "\n",
              "    <div id=\"df-c3733786-3aa5-4e32-9d46-92fb43bc8b4c\">\n",
              "      <button class=\"colab-df-quickchart\" onclick=\"quickchart('df-c3733786-3aa5-4e32-9d46-92fb43bc8b4c')\"\n",
              "                title=\"Suggest charts\"\n",
              "                style=\"display:none;\">\n",
              "\n",
              "<svg xmlns=\"http://www.w3.org/2000/svg\" height=\"24px\"viewBox=\"0 0 24 24\"\n",
              "     width=\"24px\">\n",
              "    <g>\n",
              "        <path d=\"M19 3H5c-1.1 0-2 .9-2 2v14c0 1.1.9 2 2 2h14c1.1 0 2-.9 2-2V5c0-1.1-.9-2-2-2zM9 17H7v-7h2v7zm4 0h-2V7h2v10zm4 0h-2v-4h2v4z\"/>\n",
              "    </g>\n",
              "</svg>\n",
              "      </button>\n",
              "\n",
              "<style>\n",
              "  .colab-df-quickchart {\n",
              "      --bg-color: #E8F0FE;\n",
              "      --fill-color: #1967D2;\n",
              "      --hover-bg-color: #E2EBFA;\n",
              "      --hover-fill-color: #174EA6;\n",
              "      --disabled-fill-color: #AAA;\n",
              "      --disabled-bg-color: #DDD;\n",
              "  }\n",
              "\n",
              "  [theme=dark] .colab-df-quickchart {\n",
              "      --bg-color: #3B4455;\n",
              "      --fill-color: #D2E3FC;\n",
              "      --hover-bg-color: #434B5C;\n",
              "      --hover-fill-color: #FFFFFF;\n",
              "      --disabled-bg-color: #3B4455;\n",
              "      --disabled-fill-color: #666;\n",
              "  }\n",
              "\n",
              "  .colab-df-quickchart {\n",
              "    background-color: var(--bg-color);\n",
              "    border: none;\n",
              "    border-radius: 50%;\n",
              "    cursor: pointer;\n",
              "    display: none;\n",
              "    fill: var(--fill-color);\n",
              "    height: 32px;\n",
              "    padding: 0;\n",
              "    width: 32px;\n",
              "  }\n",
              "\n",
              "  .colab-df-quickchart:hover {\n",
              "    background-color: var(--hover-bg-color);\n",
              "    box-shadow: 0 1px 2px rgba(60, 64, 67, 0.3), 0 1px 3px 1px rgba(60, 64, 67, 0.15);\n",
              "    fill: var(--button-hover-fill-color);\n",
              "  }\n",
              "\n",
              "  .colab-df-quickchart-complete:disabled,\n",
              "  .colab-df-quickchart-complete:disabled:hover {\n",
              "    background-color: var(--disabled-bg-color);\n",
              "    fill: var(--disabled-fill-color);\n",
              "    box-shadow: none;\n",
              "  }\n",
              "\n",
              "  .colab-df-spinner {\n",
              "    border: 2px solid var(--fill-color);\n",
              "    border-color: transparent;\n",
              "    border-bottom-color: var(--fill-color);\n",
              "    animation:\n",
              "      spin 1s steps(1) infinite;\n",
              "  }\n",
              "\n",
              "  @keyframes spin {\n",
              "    0% {\n",
              "      border-color: transparent;\n",
              "      border-bottom-color: var(--fill-color);\n",
              "      border-left-color: var(--fill-color);\n",
              "    }\n",
              "    20% {\n",
              "      border-color: transparent;\n",
              "      border-left-color: var(--fill-color);\n",
              "      border-top-color: var(--fill-color);\n",
              "    }\n",
              "    30% {\n",
              "      border-color: transparent;\n",
              "      border-left-color: var(--fill-color);\n",
              "      border-top-color: var(--fill-color);\n",
              "      border-right-color: var(--fill-color);\n",
              "    }\n",
              "    40% {\n",
              "      border-color: transparent;\n",
              "      border-right-color: var(--fill-color);\n",
              "      border-top-color: var(--fill-color);\n",
              "    }\n",
              "    60% {\n",
              "      border-color: transparent;\n",
              "      border-right-color: var(--fill-color);\n",
              "    }\n",
              "    80% {\n",
              "      border-color: transparent;\n",
              "      border-right-color: var(--fill-color);\n",
              "      border-bottom-color: var(--fill-color);\n",
              "    }\n",
              "    90% {\n",
              "      border-color: transparent;\n",
              "      border-bottom-color: var(--fill-color);\n",
              "    }\n",
              "  }\n",
              "</style>\n",
              "\n",
              "      <script>\n",
              "        async function quickchart(key) {\n",
              "          const quickchartButtonEl =\n",
              "            document.querySelector('#' + key + ' button');\n",
              "          quickchartButtonEl.disabled = true;  // To prevent multiple clicks.\n",
              "          quickchartButtonEl.classList.add('colab-df-spinner');\n",
              "          try {\n",
              "            const charts = await google.colab.kernel.invokeFunction(\n",
              "                'suggestCharts', [key], {});\n",
              "          } catch (error) {\n",
              "            console.error('Error during call to suggestCharts:', error);\n",
              "          }\n",
              "          quickchartButtonEl.classList.remove('colab-df-spinner');\n",
              "          quickchartButtonEl.classList.add('colab-df-quickchart-complete');\n",
              "        }\n",
              "        (() => {\n",
              "          let quickchartButtonEl =\n",
              "            document.querySelector('#df-c3733786-3aa5-4e32-9d46-92fb43bc8b4c button');\n",
              "          quickchartButtonEl.style.display =\n",
              "            google.colab.kernel.accessAllowed ? 'block' : 'none';\n",
              "        })();\n",
              "      </script>\n",
              "    </div>\n",
              "\n",
              "  <div id=\"id_c4672ac0-85d0-437f-afeb-38b7827c3206\">\n",
              "    <style>\n",
              "      .colab-df-generate {\n",
              "        background-color: #E8F0FE;\n",
              "        border: none;\n",
              "        border-radius: 50%;\n",
              "        cursor: pointer;\n",
              "        display: none;\n",
              "        fill: #1967D2;\n",
              "        height: 32px;\n",
              "        padding: 0 0 0 0;\n",
              "        width: 32px;\n",
              "      }\n",
              "\n",
              "      .colab-df-generate:hover {\n",
              "        background-color: #E2EBFA;\n",
              "        box-shadow: 0px 1px 2px rgba(60, 64, 67, 0.3), 0px 1px 3px 1px rgba(60, 64, 67, 0.15);\n",
              "        fill: #174EA6;\n",
              "      }\n",
              "\n",
              "      [theme=dark] .colab-df-generate {\n",
              "        background-color: #3B4455;\n",
              "        fill: #D2E3FC;\n",
              "      }\n",
              "\n",
              "      [theme=dark] .colab-df-generate:hover {\n",
              "        background-color: #434B5C;\n",
              "        box-shadow: 0px 1px 3px 1px rgba(0, 0, 0, 0.15);\n",
              "        filter: drop-shadow(0px 1px 2px rgba(0, 0, 0, 0.3));\n",
              "        fill: #FFFFFF;\n",
              "      }\n",
              "    </style>\n",
              "    <button class=\"colab-df-generate\" onclick=\"generateWithVariable('df')\"\n",
              "            title=\"Generate code using this dataframe.\"\n",
              "            style=\"display:none;\">\n",
              "\n",
              "  <svg xmlns=\"http://www.w3.org/2000/svg\" height=\"24px\"viewBox=\"0 0 24 24\"\n",
              "       width=\"24px\">\n",
              "    <path d=\"M7,19H8.4L18.45,9,17,7.55,7,17.6ZM5,21V16.75L18.45,3.32a2,2,0,0,1,2.83,0l1.4,1.43a1.91,1.91,0,0,1,.58,1.4,1.91,1.91,0,0,1-.58,1.4L9.25,21ZM18.45,9,17,7.55Zm-12,3A5.31,5.31,0,0,0,4.9,8.1,5.31,5.31,0,0,0,1,6.5,5.31,5.31,0,0,0,4.9,4.9,5.31,5.31,0,0,0,6.5,1,5.31,5.31,0,0,0,8.1,4.9,5.31,5.31,0,0,0,12,6.5,5.46,5.46,0,0,0,6.5,12Z\"/>\n",
              "  </svg>\n",
              "    </button>\n",
              "    <script>\n",
              "      (() => {\n",
              "      const buttonEl =\n",
              "        document.querySelector('#id_c4672ac0-85d0-437f-afeb-38b7827c3206 button.colab-df-generate');\n",
              "      buttonEl.style.display =\n",
              "        google.colab.kernel.accessAllowed ? 'block' : 'none';\n",
              "\n",
              "      buttonEl.onclick = () => {\n",
              "        google.colab.notebook.generateWithVariable('df');\n",
              "      }\n",
              "      })();\n",
              "    </script>\n",
              "  </div>\n",
              "\n",
              "    </div>\n",
              "  </div>\n"
            ],
            "application/vnd.google.colaboratory.intrinsic+json": {
              "type": "dataframe",
              "variable_name": "df",
              "summary": "{\n  \"name\": \"df\",\n  \"rows\": 1000,\n  \"fields\": [\n    {\n      \"column\": \"age\",\n      \"properties\": {\n        \"dtype\": \"number\",\n        \"std\": 15,\n        \"min\": 18,\n        \"max\": 70,\n        \"num_unique_values\": 53,\n        \"samples\": [\n          55,\n          23,\n          58\n        ],\n        \"semantic_type\": \"\",\n        \"description\": \"\"\n      }\n    },\n    {\n      \"column\": \"gender\",\n      \"properties\": {\n        \"dtype\": \"category\",\n        \"num_unique_values\": 2,\n        \"samples\": [\n          \"Female\",\n          \"Male\"\n        ],\n        \"semantic_type\": \"\",\n        \"description\": \"\"\n      }\n    },\n    {\n      \"column\": \"sleep_quality_index\",\n      \"properties\": {\n        \"dtype\": \"number\",\n        \"std\": 2.5714234154610565,\n        \"min\": 1.0,\n        \"max\": 10.0,\n        \"num_unique_values\": 91,\n        \"samples\": [\n          8.6,\n          8.8\n        ],\n        \"semantic_type\": \"\",\n        \"description\": \"\"\n      }\n    },\n    {\n      \"column\": \"brain_fog_level\",\n      \"properties\": {\n        \"dtype\": \"number\",\n        \"std\": 2.649315574431923,\n        \"min\": 1.0,\n        \"max\": 10.0,\n        \"num_unique_values\": 91,\n        \"samples\": [\n          4.2,\n          3.3\n        ],\n        \"semantic_type\": \"\",\n        \"description\": \"\"\n      }\n    },\n    {\n      \"column\": \"physical_pain_score\",\n      \"properties\": {\n        \"dtype\": \"number\",\n        \"std\": 2.5654599159598477,\n        \"min\": 1.0,\n        \"max\": 10.0,\n        \"num_unique_values\": 91,\n        \"samples\": [\n          8.3,\n          6.7\n        ],\n        \"semantic_type\": \"\",\n        \"description\": \"\"\n      }\n    },\n    {\n      \"column\": \"stress_level\",\n      \"properties\": {\n        \"dtype\": \"number\",\n        \"std\": 2.566536348112048,\n        \"min\": 1.0,\n        \"max\": 10.0,\n        \"num_unique_values\": 91,\n        \"samples\": [\n          4.8,\n          3.7\n        ],\n        \"semantic_type\": \"\",\n        \"description\": \"\"\n      }\n    },\n    {\n      \"column\": \"depression_phq9_score\",\n      \"properties\": {\n        \"dtype\": \"number\",\n        \"std\": 6.3065882475048936,\n        \"min\": 0.0,\n        \"max\": 27.0,\n        \"num_unique_values\": 28,\n        \"samples\": [\n          26.0,\n          4.0\n        ],\n        \"semantic_type\": \"\",\n        \"description\": \"\"\n      }\n    },\n    {\n      \"column\": \"fatigue_severity_scale_score\",\n      \"properties\": {\n        \"dtype\": \"number\",\n        \"std\": 2.2069370340524794,\n        \"min\": 0.0,\n        \"max\": 10.0,\n        \"num_unique_values\": 97,\n        \"samples\": [\n          1.1,\n          4.2\n        ],\n        \"semantic_type\": \"\",\n        \"description\": \"\"\n      }\n    },\n    {\n      \"column\": \"pem_duration_hours\",\n      \"properties\": {\n        \"dtype\": \"number\",\n        \"std\": 13.823952832709422,\n        \"min\": 0.0,\n        \"max\": 47.0,\n        \"num_unique_values\": 48,\n        \"samples\": [\n          5.0,\n          14.0\n        ],\n        \"semantic_type\": \"\",\n        \"description\": \"\"\n      }\n    },\n    {\n      \"column\": \"hours_of_sleep_per_night\",\n      \"properties\": {\n        \"dtype\": \"number\",\n        \"std\": 2.0403204198475247,\n        \"min\": 3.0,\n        \"max\": 10.0,\n        \"num_unique_values\": 71,\n        \"samples\": [\n          6.0,\n          7.7\n        ],\n        \"semantic_type\": \"\",\n        \"description\": \"\"\n      }\n    },\n    {\n      \"column\": \"pem_present\",\n      \"properties\": {\n        \"dtype\": \"number\",\n        \"std\": 0,\n        \"min\": 0,\n        \"max\": 1,\n        \"num_unique_values\": 2,\n        \"samples\": [\n          1,\n          0\n        ],\n        \"semantic_type\": \"\",\n        \"description\": \"\"\n      }\n    },\n    {\n      \"column\": \"work_status\",\n      \"properties\": {\n        \"dtype\": \"category\",\n        \"num_unique_values\": 3,\n        \"samples\": [\n          \"Working\",\n          \"Partially working\"\n        ],\n        \"semantic_type\": \"\",\n        \"description\": \"\"\n      }\n    },\n    {\n      \"column\": \"social_activity_level\",\n      \"properties\": {\n        \"dtype\": \"category\",\n        \"num_unique_values\": 5,\n        \"samples\": [\n          \"High\",\n          \"Very high\"\n        ],\n        \"semantic_type\": \"\",\n        \"description\": \"\"\n      }\n    },\n    {\n      \"column\": \"exercise_frequency\",\n      \"properties\": {\n        \"dtype\": \"category\",\n        \"num_unique_values\": 5,\n        \"samples\": [\n          \"Often\",\n          \"Sometimes\"\n        ],\n        \"semantic_type\": \"\",\n        \"description\": \"\"\n      }\n    },\n    {\n      \"column\": \"meditation_or_mindfulness\",\n      \"properties\": {\n        \"dtype\": \"category\",\n        \"num_unique_values\": 2,\n        \"samples\": [\n          \"No\",\n          \"Yes\"\n        ],\n        \"semantic_type\": \"\",\n        \"description\": \"\"\n      }\n    },\n    {\n      \"column\": \"diagnosis\",\n      \"properties\": {\n        \"dtype\": \"category\",\n        \"num_unique_values\": 3,\n        \"samples\": [\n          \"Depression\",\n          \"Both\"\n        ],\n        \"semantic_type\": \"\",\n        \"description\": \"\"\n      }\n    }\n  ]\n}"
            }
          },
          "metadata": {},
          "execution_count": 79
        }
      ]
    },
    {
      "cell_type": "code",
      "source": [
        "df.isnull().sum()"
      ],
      "metadata": {
        "colab": {
          "base_uri": "https://localhost:8080/",
          "height": 586
        },
        "id": "XyB4I3K1Qq1U",
        "outputId": "350350bd-37e2-4502-8f95-d3810e180ea8"
      },
      "execution_count": 80,
      "outputs": [
        {
          "output_type": "execute_result",
          "data": {
            "text/plain": [
              "age                              0\n",
              "gender                           0\n",
              "sleep_quality_index             47\n",
              "brain_fog_level                 48\n",
              "physical_pain_score             34\n",
              "stress_level                    48\n",
              "depression_phq9_score           22\n",
              "fatigue_severity_scale_score    21\n",
              "pem_duration_hours              24\n",
              "hours_of_sleep_per_night        21\n",
              "pem_present                      0\n",
              "work_status                     47\n",
              "social_activity_level           40\n",
              "exercise_frequency              39\n",
              "meditation_or_mindfulness       11\n",
              "diagnosis                        0\n",
              "dtype: int64"
            ],
            "text/html": [
              "<div>\n",
              "<style scoped>\n",
              "    .dataframe tbody tr th:only-of-type {\n",
              "        vertical-align: middle;\n",
              "    }\n",
              "\n",
              "    .dataframe tbody tr th {\n",
              "        vertical-align: top;\n",
              "    }\n",
              "\n",
              "    .dataframe thead th {\n",
              "        text-align: right;\n",
              "    }\n",
              "</style>\n",
              "<table border=\"1\" class=\"dataframe\">\n",
              "  <thead>\n",
              "    <tr style=\"text-align: right;\">\n",
              "      <th></th>\n",
              "      <th>0</th>\n",
              "    </tr>\n",
              "  </thead>\n",
              "  <tbody>\n",
              "    <tr>\n",
              "      <th>age</th>\n",
              "      <td>0</td>\n",
              "    </tr>\n",
              "    <tr>\n",
              "      <th>gender</th>\n",
              "      <td>0</td>\n",
              "    </tr>\n",
              "    <tr>\n",
              "      <th>sleep_quality_index</th>\n",
              "      <td>47</td>\n",
              "    </tr>\n",
              "    <tr>\n",
              "      <th>brain_fog_level</th>\n",
              "      <td>48</td>\n",
              "    </tr>\n",
              "    <tr>\n",
              "      <th>physical_pain_score</th>\n",
              "      <td>34</td>\n",
              "    </tr>\n",
              "    <tr>\n",
              "      <th>stress_level</th>\n",
              "      <td>48</td>\n",
              "    </tr>\n",
              "    <tr>\n",
              "      <th>depression_phq9_score</th>\n",
              "      <td>22</td>\n",
              "    </tr>\n",
              "    <tr>\n",
              "      <th>fatigue_severity_scale_score</th>\n",
              "      <td>21</td>\n",
              "    </tr>\n",
              "    <tr>\n",
              "      <th>pem_duration_hours</th>\n",
              "      <td>24</td>\n",
              "    </tr>\n",
              "    <tr>\n",
              "      <th>hours_of_sleep_per_night</th>\n",
              "      <td>21</td>\n",
              "    </tr>\n",
              "    <tr>\n",
              "      <th>pem_present</th>\n",
              "      <td>0</td>\n",
              "    </tr>\n",
              "    <tr>\n",
              "      <th>work_status</th>\n",
              "      <td>47</td>\n",
              "    </tr>\n",
              "    <tr>\n",
              "      <th>social_activity_level</th>\n",
              "      <td>40</td>\n",
              "    </tr>\n",
              "    <tr>\n",
              "      <th>exercise_frequency</th>\n",
              "      <td>39</td>\n",
              "    </tr>\n",
              "    <tr>\n",
              "      <th>meditation_or_mindfulness</th>\n",
              "      <td>11</td>\n",
              "    </tr>\n",
              "    <tr>\n",
              "      <th>diagnosis</th>\n",
              "      <td>0</td>\n",
              "    </tr>\n",
              "  </tbody>\n",
              "</table>\n",
              "</div><br><label><b>dtype:</b> int64</label>"
            ]
          },
          "metadata": {},
          "execution_count": 80
        }
      ]
    },
    {
      "cell_type": "code",
      "source": [
        "percentual_nulos = (df.isnull().sum() / len(df)) * 100\n",
        "print(percentual_nulos)"
      ],
      "metadata": {
        "colab": {
          "base_uri": "https://localhost:8080/"
        },
        "id": "Rtmjmm1aQwVs",
        "outputId": "574d4b54-b763-4401-9339-c351dc1b833b"
      },
      "execution_count": 81,
      "outputs": [
        {
          "output_type": "stream",
          "name": "stdout",
          "text": [
            "age                             0.0\n",
            "gender                          0.0\n",
            "sleep_quality_index             4.7\n",
            "brain_fog_level                 4.8\n",
            "physical_pain_score             3.4\n",
            "stress_level                    4.8\n",
            "depression_phq9_score           2.2\n",
            "fatigue_severity_scale_score    2.1\n",
            "pem_duration_hours              2.4\n",
            "hours_of_sleep_per_night        2.1\n",
            "pem_present                     0.0\n",
            "work_status                     4.7\n",
            "social_activity_level           4.0\n",
            "exercise_frequency              3.9\n",
            "meditation_or_mindfulness       1.1\n",
            "diagnosis                       0.0\n",
            "dtype: float64\n"
          ]
        }
      ]
    },
    {
      "cell_type": "code",
      "source": [
        "df_stress_nulo = df[df['stress_level'].isnull()]\n",
        "df_stress_nao_nulo = df[df['stress_level'].notnull()]"
      ],
      "metadata": {
        "id": "mqhWrqzoSWPL"
      },
      "execution_count": 82,
      "outputs": []
    },
    {
      "cell_type": "code",
      "source": [
        "print(\"Descrição de 'age' para Stress NULO:\")\n",
        "print(df_stress_nulo['age'].describe())\n",
        "print(\"Descrição de 'age' para Stress NÃO NULO:\")\n",
        "print(df_stress_nao_nulo['age'].describe())"
      ],
      "metadata": {
        "colab": {
          "base_uri": "https://localhost:8080/"
        },
        "id": "IzG02bb5SXi-",
        "outputId": "3ac78ace-ebcd-47fd-b101-fa3c56c8c8d7"
      },
      "execution_count": 83,
      "outputs": [
        {
          "output_type": "stream",
          "name": "stdout",
          "text": [
            "Descrição de 'age' para Stress NULO:\n",
            "count    48.000000\n",
            "mean     47.666667\n",
            "std      13.971602\n",
            "min      23.000000\n",
            "25%      34.750000\n",
            "50%      50.000000\n",
            "75%      60.500000\n",
            "max      70.000000\n",
            "Name: age, dtype: float64\n",
            "Descrição de 'age' para Stress NÃO NULO:\n",
            "count    952.000000\n",
            "mean      44.219538\n",
            "std       15.374782\n",
            "min       18.000000\n",
            "25%       31.000000\n",
            "50%       45.000000\n",
            "75%       57.000000\n",
            "max       70.000000\n",
            "Name: age, dtype: float64\n"
          ]
        }
      ]
    },
    {
      "cell_type": "code",
      "source": [
        "print(\"Contagem de 'gender' para Stress NULO:\")\n",
        "print(df_stress_nulo['gender'].value_counts(normalize=True))\n",
        "print(\"Contagem de 'gender' para Stress NÃO NULO:\")\n",
        "print(df_stress_nao_nulo['gender'].value_counts(normalize=True))"
      ],
      "metadata": {
        "colab": {
          "base_uri": "https://localhost:8080/"
        },
        "id": "XehanoeRSZtG",
        "outputId": "537e36b9-d840-44c2-df9d-6fe29dbe4dcd"
      },
      "execution_count": 84,
      "outputs": [
        {
          "output_type": "stream",
          "name": "stdout",
          "text": [
            "Contagem de 'gender' para Stress NULO:\n",
            "gender\n",
            "Male      0.645833\n",
            "Female    0.354167\n",
            "Name: proportion, dtype: float64\n",
            "Contagem de 'gender' para Stress NÃO NULO:\n",
            "gender\n",
            "Male      0.517857\n",
            "Female    0.482143\n",
            "Name: proportion, dtype: float64\n"
          ]
        }
      ]
    },
    {
      "cell_type": "markdown",
      "source": [
        "Age:\n",
        "A idade média de quem não preencheu o estresse é de 47.7 anos.\n",
        "\n",
        "A idade média de quem preencheu o estresse é de 44.2 anos.\n",
        "\n",
        "A mesma tendência é vista na mediana (o valor do meio): 50 anos para o grupo nulo contra 45 para o grupo não nulo.\n",
        "\n",
        "Conclusão Parcial: Pessoas um pouco mais velhas têm uma probabilidade maior de deixar o campo stress_level em branco.\n",
        "\n",
        "Gender:\n",
        "No grupo que não preencheu o estresse, 64.6% são do gênero masculino (Male).\n",
        "\n",
        "No grupo que preencheu, a proporção de homens é de 51.8%.\n",
        "\n",
        "Conclusão Parcial: A diferença aqui é ainda mais gritante. Homens neste dataset têm uma tendência significativamente maior a não responder sobre seu nível de estresse em comparação com as mulheres."
      ],
      "metadata": {
        "id": "T6nFqHxZXqKk"
      }
    },
    {
      "cell_type": "code",
      "source": [
        "df_brain_fog_level_nulo = df[df['brain_fog_level'].isnull()]\n",
        "df_brain_fog_level_nao_nulo = df[df['brain_fog_level'].notnull()]"
      ],
      "metadata": {
        "id": "syFbYmbzYmnY"
      },
      "execution_count": 85,
      "outputs": []
    },
    {
      "cell_type": "code",
      "source": [
        "print(\"Descrição de 'age' para Brain fog level NULO:\")\n",
        "print(df_brain_fog_level_nulo['age'].describe())\n",
        "print(\"Descrição de 'age' para Brain fog level Não NULO:\")\n",
        "print(df_brain_fog_level_nao_nulo['age'].describe())"
      ],
      "metadata": {
        "colab": {
          "base_uri": "https://localhost:8080/"
        },
        "id": "8R0hduy3Y0PU",
        "outputId": "60d9b070-940b-486e-d9ef-48f8111dc9c1"
      },
      "execution_count": 86,
      "outputs": [
        {
          "output_type": "stream",
          "name": "stdout",
          "text": [
            "Descrição de 'age' para Brain fog level NULO:\n",
            "count    48.000000\n",
            "mean     47.520833\n",
            "std      15.586396\n",
            "min      18.000000\n",
            "25%      39.500000\n",
            "50%      49.000000\n",
            "75%      61.250000\n",
            "max      70.000000\n",
            "Name: age, dtype: float64\n",
            "Descrição de 'age' para Brain fog level Não NULO:\n",
            "count    952.000000\n",
            "mean      44.226891\n",
            "std       15.299498\n",
            "min       18.000000\n",
            "25%       31.000000\n",
            "50%       45.000000\n",
            "75%       57.000000\n",
            "max       70.000000\n",
            "Name: age, dtype: float64\n"
          ]
        }
      ]
    },
    {
      "cell_type": "code",
      "source": [
        "print(\"Contagem de 'gender' para Brain fog level NULO:\")\n",
        "print(df_brain_fog_level_nulo['gender'].value_counts(normalize=True))\n",
        "print(\"Contagem de 'gender' para Brain fog level Não NULO:\")\n",
        "print(df_brain_fog_level_nao_nulo['gender'].value_counts(normalize=True))"
      ],
      "metadata": {
        "colab": {
          "base_uri": "https://localhost:8080/"
        },
        "id": "sFVymjdOY874",
        "outputId": "81c68e0b-1805-47da-da3b-f85fa2c28272"
      },
      "execution_count": 87,
      "outputs": [
        {
          "output_type": "stream",
          "name": "stdout",
          "text": [
            "Contagem de 'gender' para Brain fog level NULO:\n",
            "gender\n",
            "Male      0.645833\n",
            "Female    0.354167\n",
            "Name: proportion, dtype: float64\n",
            "Contagem de 'gender' para Brain fog level Não NULO:\n",
            "gender\n",
            "Male      0.517857\n",
            "Female    0.482143\n",
            "Name: proportion, dtype: float64\n"
          ]
        }
      ]
    },
    {
      "cell_type": "markdown",
      "source": [
        "Os mesmos resultados que o stress level para brain fog level\n"
      ],
      "metadata": {
        "id": "GflQeE5oZ-MM"
      }
    },
    {
      "cell_type": "code",
      "source": [
        "df_physical_pain_score_nulo = df[df['physical_pain_score'].isnull()]\n",
        "df_physical_pain_score_nao_nulo = df[df['physical_pain_score'].notnull()]"
      ],
      "metadata": {
        "id": "XoESe1xyaZY8"
      },
      "execution_count": 88,
      "outputs": []
    },
    {
      "cell_type": "code",
      "source": [
        "print(\"Descrição de 'age' para Phyisical Pain NULO:\")\n",
        "print(df_physical_pain_score_nulo['age'].describe())\n",
        "print(\"Descrição de 'age' para  Phyisical Pain Não NULO:\")\n",
        "print(df_physical_pain_score_nao_nulo['age'].describe())"
      ],
      "metadata": {
        "colab": {
          "base_uri": "https://localhost:8080/"
        },
        "outputId": "9f468e8c-a818-45ff-f639-bea7cf657ab9",
        "id": "QFZx7_94aZY8"
      },
      "execution_count": 89,
      "outputs": [
        {
          "output_type": "stream",
          "name": "stdout",
          "text": [
            "Descrição de 'age' para Phyisical Pain NULO:\n",
            "count    34.000000\n",
            "mean     40.794118\n",
            "std      13.644356\n",
            "min      19.000000\n",
            "25%      31.500000\n",
            "50%      40.000000\n",
            "75%      48.250000\n",
            "max      69.000000\n",
            "Name: age, dtype: float64\n",
            "Descrição de 'age' para  Phyisical Pain Não NULO:\n",
            "count    966.000000\n",
            "mean      44.511387\n",
            "std       15.368408\n",
            "min       18.000000\n",
            "25%       32.000000\n",
            "50%       45.000000\n",
            "75%       57.000000\n",
            "max       70.000000\n",
            "Name: age, dtype: float64\n"
          ]
        }
      ]
    },
    {
      "cell_type": "code",
      "source": [
        "print(\"Contagem de 'gender' para  Phyisical Pain NULO:\")\n",
        "print(df_physical_pain_score_nulo['gender'].value_counts(normalize=True))\n",
        "print(\"Contagem de 'gender' para  Phyisical Pain Não NULO:\")\n",
        "print(df_physical_pain_score_nao_nulo['gender'].value_counts(normalize=True))"
      ],
      "metadata": {
        "colab": {
          "base_uri": "https://localhost:8080/"
        },
        "outputId": "721c25ee-a869-4e19-b5e5-ad843dadaf15",
        "id": "ieGT8LPpaZY9"
      },
      "execution_count": 90,
      "outputs": [
        {
          "output_type": "stream",
          "name": "stdout",
          "text": [
            "Contagem de 'gender' para  Phyisical Pain NULO:\n",
            "gender\n",
            "Female    0.529412\n",
            "Male      0.470588\n",
            "Name: proportion, dtype: float64\n",
            "Contagem de 'gender' para  Phyisical Pain Não NULO:\n",
            "gender\n",
            "Male      0.52588\n",
            "Female    0.47412\n",
            "Name: proportion, dtype: float64\n"
          ]
        }
      ]
    },
    {
      "cell_type": "code",
      "metadata": {
        "id": "47261bdd"
      },
      "source": [
        "df_sleep_quality_index_nulo = df[df['sleep_quality_index'].isnull()]\n",
        "df_sleep_quality_index_nao_nulo = df[df['sleep_quality_index'].notnull()]"
      ],
      "execution_count": 91,
      "outputs": []
    },
    {
      "cell_type": "code",
      "metadata": {
        "colab": {
          "base_uri": "https://localhost:8080/"
        },
        "id": "68ebfed1",
        "outputId": "3cbe076e-785c-425b-ca14-ec5d730b3ef9"
      },
      "source": [
        "print(\"Descrição de 'age' para sleep_quality_index NULO:\")\n",
        "print(df_sleep_quality_index_nulo['age'].describe())\n",
        "print(\"Descrição de 'age' para sleep_quality_index NÃO NULO:\")\n",
        "print(df_sleep_quality_index_nao_nulo['age'].describe())"
      ],
      "execution_count": 92,
      "outputs": [
        {
          "output_type": "stream",
          "name": "stdout",
          "text": [
            "Descrição de 'age' para sleep_quality_index NULO:\n",
            "count    47.000000\n",
            "mean     44.765957\n",
            "std      17.319520\n",
            "min      18.000000\n",
            "25%      28.500000\n",
            "50%      46.000000\n",
            "75%      62.000000\n",
            "max      70.000000\n",
            "Name: age, dtype: float64\n",
            "Descrição de 'age' para sleep_quality_index NÃO NULO:\n",
            "count    953.000000\n",
            "mean      44.366212\n",
            "std       15.226345\n",
            "min       18.000000\n",
            "25%       32.000000\n",
            "50%       45.000000\n",
            "75%       57.000000\n",
            "max       70.000000\n",
            "Name: age, dtype: float64\n"
          ]
        }
      ]
    },
    {
      "cell_type": "code",
      "metadata": {
        "colab": {
          "base_uri": "https://localhost:8080/"
        },
        "id": "9b54020a",
        "outputId": "8b83e734-9544-45d9-d2d7-f92be4d00bb2"
      },
      "source": [
        "print(\"Contagem de 'gender' para sleep_quality_index NULO:\")\n",
        "print(df_sleep_quality_index_nulo['gender'].value_counts(normalize=True))\n",
        "print(\"Contagem de 'gender' para sleep_quality_index NÃO NULO:\")\n",
        "print(df_sleep_quality_index_nao_nulo['gender'].value_counts(normalize=True))"
      ],
      "execution_count": 93,
      "outputs": [
        {
          "output_type": "stream",
          "name": "stdout",
          "text": [
            "Contagem de 'gender' para sleep_quality_index NULO:\n",
            "gender\n",
            "Female    0.553191\n",
            "Male      0.446809\n",
            "Name: proportion, dtype: float64\n",
            "Contagem de 'gender' para sleep_quality_index NÃO NULO:\n",
            "gender\n",
            "Male      0.527807\n",
            "Female    0.472193\n",
            "Name: proportion, dtype: float64\n"
          ]
        }
      ]
    },
    {
      "cell_type": "code",
      "metadata": {
        "id": "f456db1e"
      },
      "source": [
        "df_depression_phq9_score_nulo = df[df['depression_phq9_score'].isnull()]\n",
        "df_depression_phq9_score_nao_nulo = df[df['depression_phq9_score'].notnull()]"
      ],
      "execution_count": 94,
      "outputs": []
    },
    {
      "cell_type": "code",
      "metadata": {
        "colab": {
          "base_uri": "https://localhost:8080/"
        },
        "id": "e09845b9",
        "outputId": "5dda3d59-27a5-4168-b1cf-c005d30aa0df"
      },
      "source": [
        "print(\"Descrição de 'age' para depression_phq9_score NULO:\")\n",
        "print(df_depression_phq9_score_nulo['age'].describe())\n",
        "print(\"Descrição de 'age' para depression_phq9_score NÃO NULO:\")\n",
        "print(df_depression_phq9_score_nao_nulo['age'].describe())"
      ],
      "execution_count": 95,
      "outputs": [
        {
          "output_type": "stream",
          "name": "stdout",
          "text": [
            "Descrição de 'age' para depression_phq9_score NULO:\n",
            "count    22.000000\n",
            "mean     47.727273\n",
            "std      13.980196\n",
            "min      18.000000\n",
            "25%      42.250000\n",
            "50%      47.500000\n",
            "75%      57.750000\n",
            "max      70.000000\n",
            "Name: age, dtype: float64\n",
            "Descrição de 'age' para depression_phq9_score NÃO NULO:\n",
            "count    978.000000\n",
            "mean      44.309816\n",
            "std       15.348664\n",
            "min       18.000000\n",
            "25%       31.000000\n",
            "50%       45.000000\n",
            "75%       57.000000\n",
            "max       70.000000\n",
            "Name: age, dtype: float64\n"
          ]
        }
      ]
    },
    {
      "cell_type": "code",
      "metadata": {
        "colab": {
          "base_uri": "https://localhost:8080/"
        },
        "id": "5c4075ad",
        "outputId": "e6b4dce3-013f-46a6-e6e8-e629bf048bbb"
      },
      "source": [
        "print(\"Contagem de 'gender' para depression_phq9_score NULO:\")\n",
        "print(df_depression_phq9_score_nulo['gender'].value_counts(normalize=True))\n",
        "print(\"Contagem de 'gender' para depression_phq9_score NÃO NULO:\")\n",
        "print(df_depression_phq9_score_nao_nulo['gender'].value_counts(normalize=True))"
      ],
      "execution_count": 96,
      "outputs": [
        {
          "output_type": "stream",
          "name": "stdout",
          "text": [
            "Contagem de 'gender' para depression_phq9_score NULO:\n",
            "gender\n",
            "Male      0.545455\n",
            "Female    0.454545\n",
            "Name: proportion, dtype: float64\n",
            "Contagem de 'gender' para depression_phq9_score NÃO NULO:\n",
            "gender\n",
            "Male      0.523517\n",
            "Female    0.476483\n",
            "Name: proportion, dtype: float64\n"
          ]
        }
      ]
    },
    {
      "cell_type": "code",
      "metadata": {
        "id": "768bd053"
      },
      "source": [
        "df_fatigue_severity_scale_score_nulo = df[df['fatigue_severity_scale_score'].isnull()]\n",
        "df_fatigue_severity_scale_score_nao_nulo = df[df['fatigue_severity_scale_score'].notnull()]"
      ],
      "execution_count": 97,
      "outputs": []
    },
    {
      "cell_type": "code",
      "metadata": {
        "colab": {
          "base_uri": "https://localhost:8080/"
        },
        "id": "a48000f0",
        "outputId": "7669f592-a35c-468f-fe7d-30803f9a64d5"
      },
      "source": [
        "print(\"Descrição de 'age' para fatigue_severity_scale_score NULO:\")\n",
        "print(df_fatigue_severity_scale_score_nulo['age'].describe())\n",
        "print(\"Descrição de 'age' para fatigue_severity_scale_score NÃO NULO:\")\n",
        "print(df_fatigue_severity_scale_score_nao_nulo['age'].describe())"
      ],
      "execution_count": 98,
      "outputs": [
        {
          "output_type": "stream",
          "name": "stdout",
          "text": [
            "Descrição de 'age' para fatigue_severity_scale_score NULO:\n",
            "count    21.000000\n",
            "mean     38.047619\n",
            "std      15.044854\n",
            "min      19.000000\n",
            "25%      28.000000\n",
            "50%      38.000000\n",
            "75%      42.000000\n",
            "max      70.000000\n",
            "Name: age, dtype: float64\n",
            "Descrição de 'age' para fatigue_severity_scale_score NÃO NULO:\n",
            "count    979.000000\n",
            "mean      44.520940\n",
            "std       15.306358\n",
            "min       18.000000\n",
            "25%       32.000000\n",
            "50%       45.000000\n",
            "75%       57.000000\n",
            "max       70.000000\n",
            "Name: age, dtype: float64\n"
          ]
        }
      ]
    },
    {
      "cell_type": "code",
      "metadata": {
        "colab": {
          "base_uri": "https://localhost:8080/"
        },
        "id": "25bf82a3",
        "outputId": "a1ef1a8a-d6ba-4f38-8c93-562cadc25c54"
      },
      "source": [
        "print(\"Contagem de 'gender' para fatigue_severity_scale_score NULO:\")\n",
        "print(df_fatigue_severity_scale_score_nulo['gender'].value_counts(normalize=True))\n",
        "print(\"Contagem de 'gender' para fatigue_severity_scale_score NÃO NULO:\")\n",
        "print(df_fatigue_severity_scale_score_nao_nulo['gender'].value_counts(normalize=True))"
      ],
      "execution_count": 99,
      "outputs": [
        {
          "output_type": "stream",
          "name": "stdout",
          "text": [
            "Contagem de 'gender' para fatigue_severity_scale_score NULO:\n",
            "gender\n",
            "Male      0.571429\n",
            "Female    0.428571\n",
            "Name: proportion, dtype: float64\n",
            "Contagem de 'gender' para fatigue_severity_scale_score NÃO NULO:\n",
            "gender\n",
            "Male      0.522983\n",
            "Female    0.477017\n",
            "Name: proportion, dtype: float64\n"
          ]
        }
      ]
    },
    {
      "cell_type": "code",
      "metadata": {
        "id": "2481d6a4"
      },
      "source": [
        "df_pem_duration_hours_nulo = df[df['pem_duration_hours'].isnull()]\n",
        "df_pem_duration_hours_nao_nulo = df[df['pem_duration_hours'].notnull()]"
      ],
      "execution_count": 100,
      "outputs": []
    },
    {
      "cell_type": "code",
      "metadata": {
        "colab": {
          "base_uri": "https://localhost:8080/"
        },
        "id": "5e3abfb9",
        "outputId": "37a466b1-25cd-4778-cc37-c4a31f682fd6"
      },
      "source": [
        "print(\"Descrição de 'age' para pem_duration_hours NULO:\")\n",
        "print(df_pem_duration_hours_nulo['age'].describe())\n",
        "print(\"Descrição de 'age' para pem_duration_hours NÃO NULO:\")\n",
        "print(df_pem_duration_hours_nao_nulo['age'].describe())"
      ],
      "execution_count": 101,
      "outputs": [
        {
          "output_type": "stream",
          "name": "stdout",
          "text": [
            "Descrição de 'age' para pem_duration_hours NULO:\n",
            "count    24.00000\n",
            "mean     46.12500\n",
            "std      14.63561\n",
            "min      19.00000\n",
            "25%      33.75000\n",
            "50%      45.00000\n",
            "75%      56.75000\n",
            "max      70.00000\n",
            "Name: age, dtype: float64\n",
            "Descrição de 'age' para pem_duration_hours NÃO NULO:\n",
            "count    976.000000\n",
            "mean      44.342213\n",
            "std       15.342841\n",
            "min       18.000000\n",
            "25%       31.000000\n",
            "50%       45.000000\n",
            "75%       57.000000\n",
            "max       70.000000\n",
            "Name: age, dtype: float64\n"
          ]
        }
      ]
    },
    {
      "cell_type": "code",
      "metadata": {
        "colab": {
          "base_uri": "https://localhost:8080/"
        },
        "id": "4e264c18",
        "outputId": "fab3e1d5-24c4-4f93-a433-04c50320db43"
      },
      "source": [
        "print(\"Contagem de 'gender' para pem_duration_hours NULO:\")\n",
        "print(df_pem_duration_hours_nulo['gender'].value_counts(normalize=True))\n",
        "print(\"Contagem de 'gender' para pem_duration_hours NÃO NULO:\")\n",
        "print(df_pem_duration_hours_nao_nulo['gender'].value_counts(normalize=True))"
      ],
      "execution_count": 102,
      "outputs": [
        {
          "output_type": "stream",
          "name": "stdout",
          "text": [
            "Contagem de 'gender' para pem_duration_hours NULO:\n",
            "gender\n",
            "Male      0.625\n",
            "Female    0.375\n",
            "Name: proportion, dtype: float64\n",
            "Contagem de 'gender' para pem_duration_hours NÃO NULO:\n",
            "gender\n",
            "Male      0.521516\n",
            "Female    0.478484\n",
            "Name: proportion, dtype: float64\n"
          ]
        }
      ]
    },
    {
      "cell_type": "code",
      "metadata": {
        "id": "e60a21c8"
      },
      "source": [
        "df_hours_of_sleep_per_night_nulo = df[df['hours_of_sleep_per_night'].isnull()]\n",
        "df_hours_of_sleep_per_night_nao_nulo = df[df['hours_of_sleep_per_night'].notnull()]"
      ],
      "execution_count": 103,
      "outputs": []
    },
    {
      "cell_type": "code",
      "metadata": {
        "colab": {
          "base_uri": "https://localhost:8080/"
        },
        "id": "ee08fbdd",
        "outputId": "23233f71-eba1-42c7-a36f-c1ac687f2cdb"
      },
      "source": [
        "print(\"Descrição de 'age' para hours_of_sleep_per_night NULO:\")\n",
        "print(df_hours_of_sleep_per_night_nulo['age'].describe())\n",
        "print(\"Descrição de 'age' para hours_of_sleep_per_night NÃO NULO:\")\n",
        "print(df_hours_of_sleep_per_night_nao_nulo['age'].describe())"
      ],
      "execution_count": 104,
      "outputs": [
        {
          "output_type": "stream",
          "name": "stdout",
          "text": [
            "Descrição de 'age' para hours_of_sleep_per_night NULO:\n",
            "count    21.000000\n",
            "mean     43.380952\n",
            "std      17.633707\n",
            "min      19.000000\n",
            "25%      25.000000\n",
            "50%      42.000000\n",
            "75%      61.000000\n",
            "max      67.000000\n",
            "Name: age, dtype: float64\n",
            "Descrição de 'age' para hours_of_sleep_per_night NÃO NULO:\n",
            "count    979.000000\n",
            "mean      44.406537\n",
            "std       15.277869\n",
            "min       18.000000\n",
            "25%       32.000000\n",
            "50%       45.000000\n",
            "75%       57.000000\n",
            "max       70.000000\n",
            "Name: age, dtype: float64\n"
          ]
        }
      ]
    },
    {
      "cell_type": "code",
      "metadata": {
        "colab": {
          "base_uri": "https://localhost:8080/"
        },
        "id": "d38b8bde",
        "outputId": "5ea72401-e503-435d-ce97-aa9cb6624dca"
      },
      "source": [
        "print(\"Contagem de 'gender' para hours_of_sleep_per_night NULO:\")\n",
        "print(df_hours_of_sleep_per_night_nulo['gender'].value_counts(normalize=True))\n",
        "print(\"Contagem de 'gender' para hours_of_sleep_per_night NÃO NULO:\")\n",
        "print(df_hours_of_sleep_per_night_nao_nulo['gender'].value_counts(normalize=True))"
      ],
      "execution_count": 105,
      "outputs": [
        {
          "output_type": "stream",
          "name": "stdout",
          "text": [
            "Contagem de 'gender' para hours_of_sleep_per_night NULO:\n",
            "gender\n",
            "Male      0.571429\n",
            "Female    0.428571\n",
            "Name: proportion, dtype: float64\n",
            "Contagem de 'gender' para hours_of_sleep_per_night NÃO NULO:\n",
            "gender\n",
            "Male      0.522983\n",
            "Female    0.477017\n",
            "Name: proportion, dtype: float64\n"
          ]
        }
      ]
    },
    {
      "cell_type": "code",
      "metadata": {
        "id": "744c03b6"
      },
      "source": [
        "df_work_status_nulo = df[df['work_status'].isnull()]\n",
        "df_work_status_nao_nulo = df[df['work_status'].notnull()]"
      ],
      "execution_count": 106,
      "outputs": []
    },
    {
      "cell_type": "code",
      "metadata": {
        "colab": {
          "base_uri": "https://localhost:8080/"
        },
        "id": "0efd3f5e",
        "outputId": "ac57e27c-a396-4f9a-81bb-a851574a3ee7"
      },
      "source": [
        "print(\"Descrição de 'age' para work_status NULO:\")\n",
        "print(df_work_status_nulo['age'].describe())\n",
        "print(\"Descrição de 'age' para work_status NÃO NULO:\")\n",
        "print(df_work_status_nao_nulo['age'].describe())"
      ],
      "execution_count": 107,
      "outputs": [
        {
          "output_type": "stream",
          "name": "stdout",
          "text": [
            "Descrição de 'age' para work_status NULO:\n",
            "count    47.000000\n",
            "mean     48.297872\n",
            "std      15.128313\n",
            "min      23.000000\n",
            "25%      38.500000\n",
            "50%      50.000000\n",
            "75%      61.000000\n",
            "max      70.000000\n",
            "Name: age, dtype: float64\n",
            "Descrição de 'age' para work_status NÃO NULO:\n",
            "count    953.000000\n",
            "mean      44.192025\n",
            "std       15.313114\n",
            "min       18.000000\n",
            "25%       31.000000\n",
            "50%       45.000000\n",
            "75%       56.000000\n",
            "max       70.000000\n",
            "Name: age, dtype: float64\n"
          ]
        }
      ]
    },
    {
      "cell_type": "code",
      "metadata": {
        "colab": {
          "base_uri": "https://localhost:8080/"
        },
        "id": "f03dac89",
        "outputId": "61c4a396-3713-4bdd-f2e7-51d975861820"
      },
      "source": [
        "print(\"Contagem de 'gender' para work_status NULO:\")\n",
        "print(df_work_status_nulo['gender'].value_counts(normalize=True))\n",
        "print(\"Contagem de 'gender' para work_status NÃO NULO:\")\n",
        "print(df_work_status_nao_nulo['gender'].value_counts(normalize=True))"
      ],
      "execution_count": 108,
      "outputs": [
        {
          "output_type": "stream",
          "name": "stdout",
          "text": [
            "Contagem de 'gender' para work_status NULO:\n",
            "gender\n",
            "Male      0.595745\n",
            "Female    0.404255\n",
            "Name: proportion, dtype: float64\n",
            "Contagem de 'gender' para work_status NÃO NULO:\n",
            "gender\n",
            "Male      0.520462\n",
            "Female    0.479538\n",
            "Name: proportion, dtype: float64\n"
          ]
        }
      ]
    },
    {
      "cell_type": "code",
      "metadata": {
        "id": "31d908a4"
      },
      "source": [
        "df_social_activity_level_nulo = df[df['social_activity_level'].isnull()]\n",
        "df_social_activity_level_nao_nulo = df[df['social_activity_level'].notnull()]"
      ],
      "execution_count": 109,
      "outputs": []
    },
    {
      "cell_type": "code",
      "metadata": {
        "colab": {
          "base_uri": "https://localhost:8080/"
        },
        "id": "96e03392",
        "outputId": "2dd1aa76-7d51-4da6-a562-668317d389f7"
      },
      "source": [
        "print(\"Descrição de 'age' para social_activity_level NULO:\")\n",
        "print(df_social_activity_level_nulo['age'].describe())\n",
        "print(\"Descrição de 'age' para social_activity_level NÃO NULO:\")\n",
        "print(df_social_activity_level_nao_nulo['age'].describe())"
      ],
      "execution_count": 110,
      "outputs": [
        {
          "output_type": "stream",
          "name": "stdout",
          "text": [
            "Descrição de 'age' para social_activity_level NULO:\n",
            "count    40.000000\n",
            "mean     46.400000\n",
            "std      15.885488\n",
            "min      20.000000\n",
            "25%      35.000000\n",
            "50%      46.500000\n",
            "75%      58.250000\n",
            "max      70.000000\n",
            "Name: age, dtype: float64\n",
            "Descrição de 'age' para social_activity_level NÃO NULO:\n",
            "count    960.000000\n",
            "mean      44.301042\n",
            "std       15.300535\n",
            "min       18.000000\n",
            "25%       31.000000\n",
            "50%       45.000000\n",
            "75%       57.000000\n",
            "max       70.000000\n",
            "Name: age, dtype: float64\n"
          ]
        }
      ]
    },
    {
      "cell_type": "code",
      "metadata": {
        "colab": {
          "base_uri": "https://localhost:8080/"
        },
        "id": "7515da11",
        "outputId": "9cb4a0cd-ff96-489d-b672-ac8991a21361"
      },
      "source": [
        "print(\"Contagem de 'gender' para social_activity_level NULO:\")\n",
        "print(df_social_activity_level_nulo['gender'].value_counts(normalize=True))\n",
        "print(\"Contagem de 'gender' para social_activity_level NÃO NULO:\")\n",
        "print(df_social_activity_level_nao_nulo['gender'].value_counts(normalize=True))"
      ],
      "execution_count": 111,
      "outputs": [
        {
          "output_type": "stream",
          "name": "stdout",
          "text": [
            "Contagem de 'gender' para social_activity_level NULO:\n",
            "gender\n",
            "Male      0.625\n",
            "Female    0.375\n",
            "Name: proportion, dtype: float64\n",
            "Contagem de 'gender' para social_activity_level NÃO NULO:\n",
            "gender\n",
            "Male      0.519792\n",
            "Female    0.480208\n",
            "Name: proportion, dtype: float64\n"
          ]
        }
      ]
    },
    {
      "cell_type": "code",
      "metadata": {
        "id": "d23d3865"
      },
      "source": [
        "df_exercise_frequency_nulo = df[df['exercise_frequency'].isnull()]\n",
        "df_exercise_frequency_nao_nulo = df[df['exercise_frequency'].notnull()]"
      ],
      "execution_count": 112,
      "outputs": []
    },
    {
      "cell_type": "code",
      "metadata": {
        "colab": {
          "base_uri": "https://localhost:8080/"
        },
        "id": "291ad6ae",
        "outputId": "b4063e11-e1f1-4925-a3f2-3576f8ae05b7"
      },
      "source": [
        "print(\"Descrição de 'age' para exercise_frequency NULO:\")\n",
        "print(df_exercise_frequency_nulo['age'].describe())\n",
        "print(\"Descrição de 'age' para exercise_frequency NÃO NULO:\")\n",
        "print(df_exercise_frequency_nao_nulo['age'].describe())"
      ],
      "execution_count": 113,
      "outputs": [
        {
          "output_type": "stream",
          "name": "stdout",
          "text": [
            "Descrição de 'age' para exercise_frequency NULO:\n",
            "count    39.000000\n",
            "mean     40.923077\n",
            "std      14.369897\n",
            "min      19.000000\n",
            "25%      27.000000\n",
            "50%      42.000000\n",
            "75%      51.000000\n",
            "max      67.000000\n",
            "Name: age, dtype: float64\n",
            "Descrição de 'age' para exercise_frequency NÃO NULO:\n",
            "count    961.000000\n",
            "mean      44.525494\n",
            "std       15.349594\n",
            "min       18.000000\n",
            "25%       32.000000\n",
            "50%       45.000000\n",
            "75%       57.000000\n",
            "max       70.000000\n",
            "Name: age, dtype: float64\n"
          ]
        }
      ]
    },
    {
      "cell_type": "code",
      "metadata": {
        "colab": {
          "base_uri": "https://localhost:8080/"
        },
        "id": "bc019eb8",
        "outputId": "55e8308f-b16d-4037-e199-aa4be239ea6a"
      },
      "source": [
        "print(\"Contagem de 'gender' para exercise_frequency NULO:\")\n",
        "print(df_exercise_frequency_nulo['gender'].value_counts(normalize=True))\n",
        "print(\"Contagem de 'gender' para exercise_frequency NÃO NULO:\")\n",
        "print(df_exercise_frequency_nao_nulo['gender'].value_counts(normalize=True))"
      ],
      "execution_count": 114,
      "outputs": [
        {
          "output_type": "stream",
          "name": "stdout",
          "text": [
            "Contagem de 'gender' para exercise_frequency NULO:\n",
            "gender\n",
            "Female    0.512821\n",
            "Male      0.487179\n",
            "Name: proportion, dtype: float64\n",
            "Contagem de 'gender' para exercise_frequency NÃO NULO:\n",
            "gender\n",
            "Male      0.525494\n",
            "Female    0.474506\n",
            "Name: proportion, dtype: float64\n"
          ]
        }
      ]
    },
    {
      "cell_type": "code",
      "metadata": {
        "id": "676fcae4"
      },
      "source": [
        "df_meditation_or_mindfulness_nulo = df[df['meditation_or_mindfulness'].isnull()]\n",
        "df_meditation_or_mindfulness_nao_nulo = df[df['meditation_or_mindfulness'].notnull()]"
      ],
      "execution_count": 115,
      "outputs": []
    },
    {
      "cell_type": "code",
      "metadata": {
        "colab": {
          "base_uri": "https://localhost:8080/"
        },
        "id": "9e2473b6",
        "outputId": "77881338-4238-47c5-fc68-b7f113f18b56"
      },
      "source": [
        "print(\"Descrição de 'age' para meditation_or_mindfulness NULO:\")\n",
        "print(df_meditation_or_mindfulness_nulo['age'].describe())\n",
        "print(\"Descrição de 'age' para meditation_or_mindfulness NÃO NULO:\")\n",
        "print(df_meditation_or_mindfulness_nao_nulo['age'].describe())"
      ],
      "execution_count": 116,
      "outputs": [
        {
          "output_type": "stream",
          "name": "stdout",
          "text": [
            "Descrição de 'age' para meditation_or_mindfulness NULO:\n",
            "count    11.000000\n",
            "mean     40.000000\n",
            "std      13.114877\n",
            "min      18.000000\n",
            "25%      32.500000\n",
            "50%      44.000000\n",
            "75%      50.000000\n",
            "max      57.000000\n",
            "Name: age, dtype: float64\n",
            "Descrição de 'age' para meditation_or_mindfulness NÃO NULO:\n",
            "count    989.000000\n",
            "mean      44.433771\n",
            "std       15.343071\n",
            "min       18.000000\n",
            "25%       31.000000\n",
            "50%       45.000000\n",
            "75%       57.000000\n",
            "max       70.000000\n",
            "Name: age, dtype: float64\n"
          ]
        }
      ]
    },
    {
      "cell_type": "code",
      "metadata": {
        "colab": {
          "base_uri": "https://localhost:8080/"
        },
        "id": "431aec14",
        "outputId": "d9412b8a-c6bd-4930-fdff-547b974b7474"
      },
      "source": [
        "print(\"Contagem de 'gender' para meditation_or_mindfulness NULO:\")\n",
        "print(df_meditation_or_mindfulness_nulo['gender'].value_counts(normalize=True))\n",
        "print(\"Contagem de 'gender' para meditation_or_mindfulness NÃO NULO:\")\n",
        "print(df_meditation_or_mindfulness_nao_nulo['gender'].value_counts(normalize=True))"
      ],
      "execution_count": 117,
      "outputs": [
        {
          "output_type": "stream",
          "name": "stdout",
          "text": [
            "Contagem de 'gender' para meditation_or_mindfulness NULO:\n",
            "gender\n",
            "Female    0.545455\n",
            "Male      0.454545\n",
            "Name: proportion, dtype: float64\n",
            "Contagem de 'gender' para meditation_or_mindfulness NÃO NULO:\n",
            "gender\n",
            "Male      0.524772\n",
            "Female    0.475228\n",
            "Name: proportion, dtype: float64\n"
          ]
        }
      ]
    }
  ]
}